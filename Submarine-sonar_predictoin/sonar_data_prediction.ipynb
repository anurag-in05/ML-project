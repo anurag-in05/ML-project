{
 "cells": [
  {
   "cell_type": "code",
   "execution_count": null,
   "id": "865bb363-33b3-4cb8-a9f0-66eaf56f745b",
   "metadata": {},
   "outputs": [],
   "source": [
    "# Submarine_sonar_prediction"
   ]
  },
  {
   "cell_type": "code",
   "execution_count": null,
   "id": "5fb04de8-7d80-4c8a-a944-8ae7d1b6f049",
   "metadata": {},
   "outputs": [],
   "source": [
    "import pandas as pd\n",
    "import numpy as np\n",
    "from sklearn.model_selection import train_test_split\n",
    "from sklearn.linear_model import LogisticRegression\n",
    "from sklearn.metrics import accuracy_score"
   ]
  },
  {
   "cell_type": "code",
   "execution_count": null,
   "id": "08e61f6c-28e3-43d7-ae29-4bf90901522e",
   "metadata": {},
   "outputs": [],
   "source": [
    "sonar_data = pd.read_csv('Copy of sonar data.csv',header= None)\n",
    "sonar_data.head()"
   ]
  },
  {
   "cell_type": "code",
   "execution_count": null,
   "id": "e292e8dd-dee3-4b10-bae4-d18da317ab41",
   "metadata": {},
   "outputs": [],
   "source": [
    "# number of rows and columns\n",
    "sonar_data.shape"
   ]
  },
  {
   "cell_type": "code",
   "execution_count": null,
   "id": "beef1946-e61f-44bb-99e6-4de67cd6064f",
   "metadata": {},
   "outputs": [],
   "source": [
    "sonar_data.describe()"
   ]
  },
  {
   "cell_type": "code",
   "execution_count": null,
   "id": "d3cadd4b-aedf-441e-a193-8d987cbc8d3e",
   "metadata": {},
   "outputs": [],
   "source": [
    "sonar_data[60].value_counts()"
   ]
  },
  {
   "cell_type": "code",
   "execution_count": null,
   "id": "53e7ed5b-15e0-4c6d-a9b1-98917195df53",
   "metadata": {},
   "outputs": [],
   "source": [
    "sonar_data.groupby(60).mean()"
   ]
  },
  {
   "cell_type": "code",
   "execution_count": null,
   "id": "0c93caef-2050-4fe4-975a-ee1283462ba0",
   "metadata": {},
   "outputs": [],
   "source": [
    "X = sonar_data.drop(columns=60, axis=1)\n",
    "Y = sonar_data[60]\n",
    "print(X)\n",
    "print(Y)"
   ]
  },
  {
   "cell_type": "code",
   "execution_count": null,
   "id": "f6588bd1-c165-4ac4-858c-d4aed2bc1781",
   "metadata": {},
   "outputs": [],
   "source": [
    "X_train,X_test,Y_train,Y_test = train_test_split(X,Y,test_size=0.1,stratify=Y,random_state=1)\n",
    "# what is random state??\n",
    "# what is xtrain??"
   ]
  },
  {
   "cell_type": "code",
   "execution_count": null,
   "id": "6aba385e-bbbb-4fc6-a0d9-cceab2a2f90d",
   "metadata": {},
   "outputs": [],
   "source": [
    "print(X.shape,X_train.shape,X_test.shape)"
   ]
  },
  {
   "cell_type": "code",
   "execution_count": null,
   "id": "7087fd51-1bdc-4510-8788-911bf74ea702",
   "metadata": {},
   "outputs": [],
   "source": [
    "# model training --> Logistic Regression\n",
    "model = LogisticRegression()\n",
    "model.fit(X_train,Y_train)"
   ]
  },
  {
   "cell_type": "code",
   "execution_count": null,
   "id": "6ee88826-46a7-4aee-a49a-d9adedc1c2af",
   "metadata": {},
   "outputs": [],
   "source": [
    "#accuracy on the data\n",
    "X_train_prediction = model.predict(X_train)\n",
    "training_data_accuracy = accuracy_score(X_train_prediction,Y_train)"
   ]
  },
  {
   "cell_type": "code",
   "execution_count": null,
   "id": "dc7cc147-e5e0-40ea-ae46-05b1a7c9cb57",
   "metadata": {},
   "outputs": [],
   "source": [
    "print(training_data_accuracy)"
   ]
  },
  {
   "cell_type": "code",
   "execution_count": null,
   "id": "9014661e-a8a5-44c9-b0f6-04656c83201e",
   "metadata": {},
   "outputs": [],
   "source": [
    "X_test_prediction = model.predict(X_test)\n",
    "print(accuracy_score(X_test_prediction,Y_test))"
   ]
  },
  {
   "cell_type": "code",
   "execution_count": null,
   "id": "520aad97-83de-4cd8-bc54-cc5027eb6b08",
   "metadata": {},
   "outputs": [],
   "source": [
    "input_data= [] #put the answers in it\n",
    "\n",
    "#changing the input data to a numpy array\n",
    "input_data_as_numpy_array = np.asarray(input_data)\n",
    "\n",
    "#reshape the np array as we are predicting for one instance\n",
    "input_data_reshaped = input_data_as_numpy_array.reshape(1,-1)\n",
    "\n",
    "prediction = model.predict(input_data_reshaped)\n",
    "if prediction[0]=='R':\n",
    "  print('The object is a Rock')\n",
    "else:\n",
    "  print('The object is a Mine')"
   ]
  },
  {
   "cell_type": "code",
   "execution_count": null,
   "id": "d3fede56-074c-47ef-90f6-d459a6c5da86",
   "metadata": {},
   "outputs": [],
   "source": []
  },
  {
   "cell_type": "code",
   "execution_count": null,
   "id": "58060f1f-2012-4df3-870e-1c14348665ea",
   "metadata": {},
   "outputs": [],
   "source": []
  },
  {
   "cell_type": "code",
   "execution_count": null,
   "id": "4348cdd1-ff21-4bd1-8c0d-bbde380183ba",
   "metadata": {},
   "outputs": [],
   "source": []
  },
  {
   "cell_type": "code",
   "execution_count": null,
   "id": "8538c25e-27e3-45d9-8c32-9cc31a9ccdce",
   "metadata": {},
   "outputs": [],
   "source": []
  },
  {
   "cell_type": "code",
   "execution_count": null,
   "id": "cba5eed1-8042-480c-83de-b27ffde3e4f1",
   "metadata": {},
   "outputs": [],
   "source": []
  },
  {
   "cell_type": "code",
   "execution_count": null,
   "id": "8294c9bb-5fca-4541-b757-5c97603f4553",
   "metadata": {},
   "outputs": [],
   "source": []
  },
  {
   "cell_type": "code",
   "execution_count": null,
   "id": "ac2b3a7a-742a-466a-bd41-8c562783bdb5",
   "metadata": {},
   "outputs": [],
   "source": []
  },
  {
   "cell_type": "code",
   "execution_count": null,
   "id": "abfe9ccd-4960-42cc-9ba9-758389181be8",
   "metadata": {},
   "outputs": [],
   "source": []
  },
  {
   "cell_type": "code",
   "execution_count": null,
   "id": "26d2ba14-cc61-4b12-88e6-197fdad6ebf6",
   "metadata": {},
   "outputs": [],
   "source": []
  },
  {
   "cell_type": "code",
   "execution_count": null,
   "id": "2466093e-caec-4abf-a371-98341a3af294",
   "metadata": {},
   "outputs": [],
   "source": []
  },
  {
   "cell_type": "code",
   "execution_count": null,
   "id": "9ac5612b-77d1-46f9-a5c9-c014b2c6db59",
   "metadata": {},
   "outputs": [],
   "source": []
  },
  {
   "cell_type": "code",
   "execution_count": null,
   "id": "9fa48cbc-8aba-4e7a-be7d-7cf6e40b9898",
   "metadata": {},
   "outputs": [],
   "source": []
  },
  {
   "cell_type": "code",
   "execution_count": null,
   "id": "02bc125e-4a3e-4de3-a51b-af45775bf563",
   "metadata": {},
   "outputs": [],
   "source": []
  },
  {
   "cell_type": "code",
   "execution_count": null,
   "id": "0a33c9ad-8418-42da-a2d2-7a547df10355",
   "metadata": {},
   "outputs": [],
   "source": []
  },
  {
   "cell_type": "code",
   "execution_count": null,
   "id": "beadb7e6-5b0f-43b8-96aa-7e8a03138673",
   "metadata": {},
   "outputs": [],
   "source": []
  }
 ],
 "metadata": {
  "kernelspec": {
   "display_name": "Python 3 (ipykernel)",
   "language": "python",
   "name": "python3"
  },
  "language_info": {
   "codemirror_mode": {
    "name": "ipython",
    "version": 3
   },
   "file_extension": ".py",
   "mimetype": "text/x-python",
   "name": "python",
   "nbconvert_exporter": "python",
   "pygments_lexer": "ipython3",
   "version": "3.12.4"
  }
 },
 "nbformat": 4,
 "nbformat_minor": 5
}
